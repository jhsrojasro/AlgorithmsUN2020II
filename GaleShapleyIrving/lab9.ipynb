{
  "nbformat": 4,
  "nbformat_minor": 0,
  "metadata": {
    "colab": {
      "name": "lab9.ipynb",
      "provenance": []
    },
    "kernelspec": {
      "name": "python3",
      "display_name": "Python 3"
    }
  },
  "cells": [
    {
      "cell_type": "markdown",
      "metadata": {
        "id": "QC2KLWeLuKQn"
      },
      "source": [
        "#Laboratorio #9\n",
        "##Jhon Sebastian Rojas Rodriguez"
      ]
    },
    {
      "cell_type": "code",
      "metadata": {
        "id": "5DkwDWHeuFty"
      },
      "source": [
        ""
      ],
      "execution_count": null,
      "outputs": []
    }
  ]
}